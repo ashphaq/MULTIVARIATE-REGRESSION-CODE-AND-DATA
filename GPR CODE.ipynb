{
 "cells": [
  {
   "cell_type": "code",
   "execution_count": null,
   "id": "c01fa507",
   "metadata": {},
   "outputs": [],
   "source": [
    "# Decision Tree for Multioutput Regression\n",
    "from sklearn.datasets import make_regression\n",
    "from sklearn.tree import DecisionTreeRegressor\n",
    "from sklearn.datasets import make_regression\n",
    "from sklearn.neighbors import KNeighborsRegressor\n",
    "from sklearn.model_selection import train_test_split\n",
    "from sklearn.datasets import make_regression\n",
    "from sklearn.model_selection import cross_val_score\n",
    "from sklearn.model_selection import RepeatedKFold\n",
    "from sklearn.metrics import mean_absolute_error\n",
    "from sklearn.ensemble import RandomForestRegressor\n",
    "from sklearn.datasets import make_regression\n",
    "from sklearn.gaussian_process import GaussianProcessRegressor"
   ]
  },
  {
   "cell_type": "code",
   "execution_count": null,
   "id": "e8e95911",
   "metadata": {},
   "outputs": [],
   "source": [
    "import pandas as pd\n",
    "df=pd.read_csv('ASTER-GOA.csv')\n",
    "# split into input (X) and output (y) variables\n",
    "df.head()\n",
    "X= df.iloc[:, 3:6].values\n",
    "y= df.iloc[:,2].values\n",
    "# split into train test sets\n",
    "X_train, X_test, y_train, y_test = train_test_split(X, y, test_size=0.2, random_state=1)"
   ]
  },
  {
   "cell_type": "code",
   "execution_count": null,
   "id": "8a0169fe",
   "metadata": {},
   "outputs": [],
   "source": [
    "from sklearn.gaussian_process import GaussianProcessRegressor\n",
    "from sklearn.gaussian_process.kernels import ConstantKernel, RBF\n",
    "\n",
    "# Define kernel parameters. \n",
    "l = 0.2\n",
    "sigma_f = 2\n",
    "sigma_n = 2\n",
    "\n",
    "# Define kernel object. \n",
    "kernel = ConstantKernel(constant_value=sigma_f,constant_value_bounds=(1e-3, 1e3)) \\\n",
    "            * RBF(length_scale=l, length_scale_bounds=(1e-3, 1e3))"
   ]
  },
  {
   "cell_type": "code",
   "execution_count": null,
   "id": "67927daa",
   "metadata": {},
   "outputs": [],
   "source": [
    "from sklearn.gaussian_process import GaussianProcessRegressor\n",
    "# Define GaussianProcessRegressor object. \n",
    "model = GaussianProcessRegressor(kernel=kernel, alpha=sigma_n**2, n_restarts_optimizer=10)"
   ]
  },
  {
   "cell_type": "code",
   "execution_count": null,
   "id": "d8e0bdd2",
   "metadata": {},
   "outputs": [],
   "source": [
    "GaussianProcessRegressor(alpha=0.16000000000000003, copy_X_train=True,\n",
    "                         kernel=1.41**2 * RBF(length_scale=0.2),\n",
    "                         n_restarts_optimizer=10, normalize_y=False,\n",
    "                         optimizer='fmin_l_bfgs_b', random_state=None)"
   ]
  },
  {
   "cell_type": "code",
   "execution_count": null,
   "id": "583be3a9",
   "metadata": {},
   "outputs": [],
   "source": [
    "# define model\n",
    "model.fit(X_train, y_train)\n",
    "# make prediction on test set\n",
    "yhat = model.predict(X_test)"
   ]
  },
  {
   "cell_type": "code",
   "execution_count": null,
   "id": "f52bf8d7",
   "metadata": {},
   "outputs": [],
   "source": [
    "# calculate error\n",
    "score = mean_absolute_error(y_test, yhat)**(0.5)\n",
    "print(score)"
   ]
  },
  {
   "cell_type": "code",
   "execution_count": null,
   "id": "ca634f90",
   "metadata": {},
   "outputs": [],
   "source": [
    "from sklearn.metrics import mean_squared_error\n",
    "from sklearn.metrics import r2_score\n",
    "rmse_test = mean_squared_error(y_test, yhat)**(0.5)\n",
    "print('\\nRMSE on test dataset : ', rmse_test)\n",
    "r= r2_score(y_test, yhat)**(0.5)\n",
    "print(r)"
   ]
  },
  {
   "cell_type": "code",
   "execution_count": null,
   "id": "5fa50f68",
   "metadata": {},
   "outputs": [],
   "source": [
    "from matplotlib import pyplot\n",
    "pyplot.scatter(y_test, yhat)\n",
    "pyplot.show()"
   ]
  },
  {
   "cell_type": "code",
   "execution_count": null,
   "id": "94da933c",
   "metadata": {},
   "outputs": [],
   "source": [
    "import seaborn as sns\n",
    "ax = sns.distplot(df['Depth'], color=\"r\", label='Actual')\n",
    "sns.distplot(yhat, color='b', label=\"predicted values\", ax = ax)\n",
    "pyplot.title('Actual vs Predicted value for depth')\n",
    "pyplot.show()"
   ]
  },
  {
   "cell_type": "code",
   "execution_count": null,
   "id": "adbaa4e3",
   "metadata": {},
   "outputs": [],
   "source": []
  }
 ],
 "metadata": {
  "kernelspec": {
   "display_name": "Python 3 (ipykernel)",
   "language": "python",
   "name": "python3"
  },
  "language_info": {
   "codemirror_mode": {
    "name": "ipython",
    "version": 3
   },
   "file_extension": ".py",
   "mimetype": "text/x-python",
   "name": "python",
   "nbconvert_exporter": "python",
   "pygments_lexer": "ipython3",
   "version": "3.11.5"
  }
 },
 "nbformat": 4,
 "nbformat_minor": 5
}
